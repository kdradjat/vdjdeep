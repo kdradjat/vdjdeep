{
 "cells": [
  {
   "cell_type": "code",
   "execution_count": 2,
   "id": "ac10d6aa",
   "metadata": {},
   "outputs": [],
   "source": [
    "import numpy as np\n",
    "import pandas as pd"
   ]
  },
  {
   "cell_type": "code",
   "execution_count": 4,
   "id": "7be4788c",
   "metadata": {},
   "outputs": [],
   "source": [
    "j_alleles_seq = np.load('j_alleles_seq.npy', allow_pickle='True').item()"
   ]
  },
  {
   "cell_type": "code",
   "execution_count": 14,
   "id": "399f3d74",
   "metadata": {},
   "outputs": [
    {
     "name": "stdout",
     "output_type": "stream",
     "text": [
      "attactactactactactacatggacgtctggggcaaagggaccacggtcaccgtctcctca\n",
      "attactactactactacggtatggacgtctggggcaaagggaccacggtcaccgtctcctcag\n"
     ]
    }
   ],
   "source": [
    "print(j_alleles_seq['IGHJ6*03'])\n",
    "print(j_alleles_seq['IGHJ6*04'])\n",
    "\n",
    "J603 = j_alleles_seq['IGHJ6*03']\n",
    "J604 = j_alleles_seq['IGHJ6*04']"
   ]
  },
  {
   "cell_type": "code",
   "execution_count": 12,
   "id": "727c449e",
   "metadata": {},
   "outputs": [],
   "source": [
    "def get_diff(seq1, seq2) :\n",
    "    for i, j in zip(seq1, seq2) : \n",
    "        if i != j :\n",
    "            print(i,j)\n",
    "    return"
   ]
  },
  {
   "cell_type": "code",
   "execution_count": 13,
   "id": "b0210520",
   "metadata": {},
   "outputs": [
    {
     "name": "stdout",
     "output_type": "stream",
     "text": [
      "t g\n",
      "a g\n",
      "c t\n"
     ]
    }
   ],
   "source": [
    "get_diff(J603, J604)"
   ]
  },
  {
   "cell_type": "code",
   "execution_count": 18,
   "id": "116c1cfb",
   "metadata": {},
   "outputs": [
    {
     "name": "stdout",
     "output_type": "stream",
     "text": [
      "actactttgactactggggccaaggaaccctggtcaccgtctcctcag\n",
      "actactttgactactggggccagggaaccctggtcaccgtctcctcag\n",
      "a g\n"
     ]
    }
   ],
   "source": [
    "print(j_alleles_seq['IGHJ4*01'])\n",
    "print(j_alleles_seq['IGHJ4*02'])\n",
    "J401 = j_alleles_seq['IGHJ4*01']\n",
    "J402 = j_alleles_seq['IGHJ4*02']\n",
    "get_diff(J401, J402)"
   ]
  },
  {
   "cell_type": "code",
   "execution_count": 19,
   "id": "998d9784",
   "metadata": {},
   "outputs": [
    {
     "name": "stdout",
     "output_type": "stream",
     "text": [
      "attactactactactacggtatggacgtctgggggcaagggaccacggtcaccgtctcctcag\n",
      "attactactactactacggtatggacgtctggggccaagggaccacggtcaccgtctcctcag\n",
      "g c\n"
     ]
    }
   ],
   "source": [
    "print(j_alleles_seq['IGHJ6*01'])\n",
    "print(j_alleles_seq['IGHJ6*02'])\n",
    "J601 = j_alleles_seq['IGHJ6*01']\n",
    "J602 = j_alleles_seq['IGHJ6*02']\n",
    "get_diff(J601, J602)"
   ]
  },
  {
   "cell_type": "code",
   "execution_count": 20,
   "id": "ca6d1728",
   "metadata": {},
   "outputs": [],
   "source": [
    "d_alleles_seq = np.load('d_alleles_seq.npy', allow_pickle='True').item()"
   ]
  },
  {
   "cell_type": "code",
   "execution_count": 22,
   "id": "1af29aa7",
   "metadata": {},
   "outputs": [
    {
     "name": "stdout",
     "output_type": "stream",
     "text": [
      "gggtatagcagcagctggtac\n",
      "ggtataactggaacgac\n",
      "t g\n",
      "a t\n",
      "t a\n",
      "a t\n",
      "c g\n",
      "t c\n",
      "g a\n",
      "a c\n",
      "c g\n",
      "g c\n",
      "a t\n",
      "c g\n"
     ]
    }
   ],
   "source": [
    "D61301 = d_alleles_seq['IGHD6-13*01']\n",
    "D12001 = d_alleles_seq['IGHD1-20*01']\n",
    "print(D61301)\n",
    "print(D12001)\n",
    "get_diff(D12001, D61301)"
   ]
  },
  {
   "cell_type": "code",
   "execution_count": 25,
   "id": "0233e95c",
   "metadata": {},
   "outputs": [
    {
     "data": {
      "text/plain": [
       "(10, 36)"
      ]
     },
     "execution_count": 25,
     "metadata": {},
     "output_type": "execute_result"
    }
   ],
   "source": [
    "d_alleles_dict = np.load('../dict/d_alleles_37.npy', allow_pickle='True').item()\n",
    "d_alleles_dict['IGHD1-20*01'], d_alleles_dict['IGHD6-13*01']"
   ]
  },
  {
   "cell_type": "code",
   "execution_count": 26,
   "id": "7bf23f62",
   "metadata": {},
   "outputs": [
    {
     "data": {
      "text/plain": [
       "{'IGHD2-2*01': 0,\n",
       " 'IGHD4-23*01': 1,\n",
       " 'IGHD5-12*01': 2,\n",
       " 'IGHD2-21*01': 3,\n",
       " 'IGHD3-10*02': 4,\n",
       " 'IGHD5-18*01': 5,\n",
       " 'IGHD5/OR15-5a*01': 6,\n",
       " 'IGHD1/OR15-1a*01': 7,\n",
       " 'IGHD3-22*01': 8,\n",
       " 'IGHD3-16*02': 9,\n",
       " 'IGHD1-20*01': 10,\n",
       " 'IGHD1-7*01': 11,\n",
       " 'IGHD4/OR15-4a*01': 12,\n",
       " 'IGHD7-27*01': 13,\n",
       " 'IGHD2-8*01': 14,\n",
       " 'IGHD2-2*02': 15,\n",
       " 'IGHD1-1*01': 16,\n",
       " 'IGHD2-2*03': 17,\n",
       " 'IGHD3-3*01': 18,\n",
       " 'IGHD4-17*01': 19,\n",
       " 'IGHD6-25*01': 20,\n",
       " 'IGHD4-11*01': 21,\n",
       " 'IGHD2-21*02': 22,\n",
       " 'IGHD3-9*01': 23,\n",
       " 'IGHD1-14*01': 24,\n",
       " 'IGHD6-19*01': 25,\n",
       " 'IGHD3-10*01': 26,\n",
       " 'IGHD2-8*02': 27,\n",
       " 'IGHD2-15*01': 28,\n",
       " 'IGHD1-26*01': 29,\n",
       " 'IGHD3/OR15-3a*01': 30,\n",
       " 'IGHD2/OR15-2a*01': 31,\n",
       " 'IGHD3-3*02': 32,\n",
       " 'IGHD5-24*01': 33,\n",
       " 'IGHD3-16*01': 34,\n",
       " 'IGHD6-6*01': 35,\n",
       " 'IGHD6-13*01': 36}"
      ]
     },
     "execution_count": 26,
     "metadata": {},
     "output_type": "execute_result"
    }
   ],
   "source": [
    "d_alleles_dict"
   ]
  },
  {
   "cell_type": "code",
   "execution_count": null,
   "id": "0d52991c",
   "metadata": {},
   "outputs": [],
   "source": []
  }
 ],
 "metadata": {
  "kernelspec": {
   "display_name": "Python 3.7 (pytorch)",
   "language": "python",
   "name": "pytorch"
  },
  "language_info": {
   "codemirror_mode": {
    "name": "ipython",
    "version": 3
   },
   "file_extension": ".py",
   "mimetype": "text/x-python",
   "name": "python",
   "nbconvert_exporter": "python",
   "pygments_lexer": "ipython3",
   "version": "3.7.16"
  }
 },
 "nbformat": 4,
 "nbformat_minor": 5
}
